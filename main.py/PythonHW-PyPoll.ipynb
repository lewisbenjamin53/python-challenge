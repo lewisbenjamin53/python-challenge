{
 "cells": [
  {
   "cell_type": "code",
   "execution_count": 1,
   "metadata": {},
   "outputs": [],
   "source": [
    "import os\n",
    "import csv\n",
    "import pprint\n",
    "import operator"
   ]
  },
  {
   "cell_type": "code",
   "execution_count": 2,
   "metadata": {},
   "outputs": [],
   "source": [
    "election_csv_path = os.path.join('..', 'Resources', 'election_data.csv')"
   ]
  },
  {
   "cell_type": "code",
   "execution_count": 3,
   "metadata": {},
   "outputs": [],
   "source": [
    "#variables\n",
    "list_of_candidates = []\n",
    "vote_list = []\n",
    "\n",
    "    \n",
    "with open(election_csv_path, 'r') as csvfile:\n",
    "    read = csv.reader(csvfile, delimiter=\",\")\n",
    "    head = next(read)\n",
    "    \n",
    "    \n",
    "    for row in read:\n",
    "        vote_list.append(row[2])\n",
    "        if row[2] not in list_of_candidates:\n",
    "            list_of_candidates.append(row[2])\n",
    "            \n",
    "    \n",
    "    vote_count = len(vote_list)\n",
    "    \n",
    "    results = {}\n",
    "    \n",
    "    for can in list_of_candidates:\n",
    "        freq = vote_list.count(can)\n",
    "        prec = freq / vote_count\n",
    "        results.update({can:[freq,prec]})\n",
    "    \n",
    "    winner = max(results, key=results.get) "
   ]
  },
  {
   "cell_type": "code",
   "execution_count": 4,
   "metadata": {},
   "outputs": [
    {
     "name": "stdout",
     "output_type": "stream",
     "text": [
      "Election Results\n",
      "--------------------\n",
      "Total Votes: 3521001\n",
      "--------------------\n",
      "Khan: 0.6300001050837531% (2218231)\n",
      "Correy: 0.19999994319797126% (704200)\n",
      "Li: 0.13999996023857988% (492940)\n",
      "O'Tooley: 0.02999999147969569% (105630)\n",
      "\n"
     ]
    }
   ],
   "source": [
    "# print results\n",
    "print(f\"Election Results\\n--------------------\\nTotal Votes: {vote_count}\\n--------------------\")\n",
    "for key, value in results.items():\n",
    "    print(f\"{key}: {value[1]}% ({value[0]})\")\n",
    "print(f\"\")"
   ]
  },
  {
   "cell_type": "code",
   "execution_count": null,
   "metadata": {},
   "outputs": [],
   "source": []
  }
 ],
 "metadata": {
  "kernelspec": {
   "display_name": "Python 3",
   "language": "python",
   "name": "python3"
  },
  "language_info": {
   "codemirror_mode": {
    "name": "ipython",
    "version": 3
   },
   "file_extension": ".py",
   "mimetype": "text/x-python",
   "name": "python",
   "nbconvert_exporter": "python",
   "pygments_lexer": "ipython3",
   "version": "3.7.6"
  }
 },
 "nbformat": 4,
 "nbformat_minor": 4
}
